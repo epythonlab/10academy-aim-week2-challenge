{
 "cells": [
  {
   "cell_type": "markdown",
   "metadata": {},
   "source": [
    "## User Satsfaction Score Prediction"
   ]
  },
  {
   "cell_type": "code",
   "execution_count": 1,
   "metadata": {},
   "outputs": [],
   "source": [
    "import pandas as pd\n",
    "import os\n",
    "import sys\n",
    "# Add the 'scripts' directory to the Python path for module imports\n",
    "sys.path.append(os.path.abspath(os.path.join('..', 'scripts')))"
   ]
  },
  {
   "cell_type": "code",
   "execution_count": 2,
   "metadata": {},
   "outputs": [],
   "source": [
    "# Load the xdr_cleaned dataset\n",
    "data = pd.read_csv('../Data/data/xdr_cleaned.csv')"
   ]
  },
  {
   "cell_type": "code",
   "execution_count": 3,
   "metadata": {},
   "outputs": [],
   "source": [
    "# Import modules\n",
    "from user_engagement_analysis import UserEngagementAnalysis\n",
    "from experience_analytics import ExperienceAnalytics\n",
    "from satisfaction_analytics import UserSatisfactionAnalytics"
   ]
  },
  {
   "cell_type": "code",
   "execution_count": 4,
   "metadata": {},
   "outputs": [],
   "source": [
    "# Create instances of engagement and user experience classes\n",
    "engagement_analysis = UserEngagementAnalysis(data)\n",
    "experience_analysis = ExperienceAnalytics(data)\n",
    "satisfaction_analysis = UserSatisfactionAnalytics()\n"
   ]
  },
  {
   "cell_type": "code",
   "execution_count": 5,
   "metadata": {},
   "outputs": [],
   "source": [
    "# Normalize and cluster\n",
    "# Aggregate engagement metrics\n",
    "engagement_analysis.aggregate_metrics()\n",
    "engagement_analysis.metrics.head()\n",
    "engagement_analysis.normalize_and_cluster(n_clusters=3)\n"
   ]
  },
  {
   "cell_type": "code",
   "execution_count": 10,
   "metadata": {},
   "outputs": [],
   "source": [
    "# Computer Engagement Score\n",
    "\n",
    "engagement_features = [\n",
    "    'total_session_duration',\n",
    "    'total_download_traffic',\n",
    "    'total_upload_traffic', \n",
    "    'sessions_frequency']\n",
    "\n",
    "engagement_scores = satisfaction_analysis.compute_score(\n",
    "    engagement_analysis.metrics, \n",
    "    engagement_analysis.cluster_centers, \n",
    "    engagement_features, 'Engagement_Score')\n"
   ]
  },
  {
   "cell_type": "code",
   "execution_count": 13,
   "metadata": {},
   "outputs": [
    {
     "data": {
      "text/html": [
       "<div>\n",
       "<style scoped>\n",
       "    .dataframe tbody tr th:only-of-type {\n",
       "        vertical-align: middle;\n",
       "    }\n",
       "\n",
       "    .dataframe tbody tr th {\n",
       "        vertical-align: top;\n",
       "    }\n",
       "\n",
       "    .dataframe thead th {\n",
       "        text-align: right;\n",
       "    }\n",
       "</style>\n",
       "<table border=\"1\" class=\"dataframe\">\n",
       "  <thead>\n",
       "    <tr style=\"text-align: right;\">\n",
       "      <th></th>\n",
       "      <th>MSISDN/Number</th>\n",
       "      <th>Engagement_Score</th>\n",
       "    </tr>\n",
       "  </thead>\n",
       "  <tbody>\n",
       "    <tr>\n",
       "      <th>0</th>\n",
       "      <td>3.361370e+10</td>\n",
       "      <td>3.706190e+09</td>\n",
       "    </tr>\n",
       "    <tr>\n",
       "      <th>1</th>\n",
       "      <td>3.361370e+10</td>\n",
       "      <td>2.442693e+08</td>\n",
       "    </tr>\n",
       "    <tr>\n",
       "      <th>2</th>\n",
       "      <td>3.361370e+10</td>\n",
       "      <td>4.146567e+08</td>\n",
       "    </tr>\n",
       "    <tr>\n",
       "      <th>3</th>\n",
       "      <td>3.361370e+10</td>\n",
       "      <td>1.199990e+07</td>\n",
       "    </tr>\n",
       "    <tr>\n",
       "      <th>4</th>\n",
       "      <td>3.361370e+10</td>\n",
       "      <td>1.925831e+08</td>\n",
       "    </tr>\n",
       "    <tr>\n",
       "      <th>...</th>\n",
       "      <td>...</td>\n",
       "      <td>...</td>\n",
       "    </tr>\n",
       "    <tr>\n",
       "      <th>89326</th>\n",
       "      <td>3.376818e+10</td>\n",
       "      <td>3.330732e+08</td>\n",
       "    </tr>\n",
       "    <tr>\n",
       "      <th>89327</th>\n",
       "      <td>3.376818e+10</td>\n",
       "      <td>1.553796e+07</td>\n",
       "    </tr>\n",
       "    <tr>\n",
       "      <th>89328</th>\n",
       "      <td>3.376819e+10</td>\n",
       "      <td>3.989745e+08</td>\n",
       "    </tr>\n",
       "    <tr>\n",
       "      <th>89329</th>\n",
       "      <td>3.376819e+10</td>\n",
       "      <td>6.568295e+07</td>\n",
       "    </tr>\n",
       "    <tr>\n",
       "      <th>89330</th>\n",
       "      <td>3.376819e+10</td>\n",
       "      <td>3.706190e+09</td>\n",
       "    </tr>\n",
       "  </tbody>\n",
       "</table>\n",
       "<p>89331 rows × 2 columns</p>\n",
       "</div>"
      ],
      "text/plain": [
       "       MSISDN/Number  Engagement_Score\n",
       "0       3.361370e+10      3.706190e+09\n",
       "1       3.361370e+10      2.442693e+08\n",
       "2       3.361370e+10      4.146567e+08\n",
       "3       3.361370e+10      1.199990e+07\n",
       "4       3.361370e+10      1.925831e+08\n",
       "...              ...               ...\n",
       "89326   3.376818e+10      3.330732e+08\n",
       "89327   3.376818e+10      1.553796e+07\n",
       "89328   3.376819e+10      3.989745e+08\n",
       "89329   3.376819e+10      6.568295e+07\n",
       "89330   3.376819e+10      3.706190e+09\n",
       "\n",
       "[89331 rows x 2 columns]"
      ]
     },
     "execution_count": 13,
     "metadata": {},
     "output_type": "execute_result"
    }
   ],
   "source": [
    "engagement_scores"
   ]
  },
  {
   "cell_type": "code",
   "execution_count": 7,
   "metadata": {},
   "outputs": [],
   "source": [
    "# User experience clusters\n",
    "# Define features\n",
    "experience_features = ['TCP Retransmission', 'RTT', 'Throughput']\n",
    "experience_df, cluster_centers = experience_analysis.k_means_clustering(experience_features)"
   ]
  },
  {
   "cell_type": "code",
   "execution_count": 9,
   "metadata": {},
   "outputs": [],
   "source": [
    "# Computer User experience scores\n",
    "\n",
    "experience_scores = satisfaction_analysis.compute_score(\n",
    "    experience_df, \n",
    "    cluster_centers, \n",
    "    experience_features, 'Experience_Score')"
   ]
  },
  {
   "cell_type": "code",
   "execution_count": 11,
   "metadata": {},
   "outputs": [
    {
     "data": {
      "text/html": [
       "<div>\n",
       "<style scoped>\n",
       "    .dataframe tbody tr th:only-of-type {\n",
       "        vertical-align: middle;\n",
       "    }\n",
       "\n",
       "    .dataframe tbody tr th {\n",
       "        vertical-align: top;\n",
       "    }\n",
       "\n",
       "    .dataframe thead th {\n",
       "        text-align: right;\n",
       "    }\n",
       "</style>\n",
       "<table border=\"1\" class=\"dataframe\">\n",
       "  <thead>\n",
       "    <tr style=\"text-align: right;\">\n",
       "      <th></th>\n",
       "      <th>MSISDN/Number</th>\n",
       "      <th>Experience_Score</th>\n",
       "    </tr>\n",
       "  </thead>\n",
       "  <tbody>\n",
       "    <tr>\n",
       "      <th>0</th>\n",
       "      <td>3.361370e+10</td>\n",
       "      <td>9.145345e+05</td>\n",
       "    </tr>\n",
       "    <tr>\n",
       "      <th>1</th>\n",
       "      <td>3.361370e+10</td>\n",
       "      <td>3.180830e+06</td>\n",
       "    </tr>\n",
       "    <tr>\n",
       "      <th>2</th>\n",
       "      <td>3.361370e+10</td>\n",
       "      <td>1.122624e+06</td>\n",
       "    </tr>\n",
       "    <tr>\n",
       "      <th>3</th>\n",
       "      <td>3.361370e+10</td>\n",
       "      <td>1.122624e+06</td>\n",
       "    </tr>\n",
       "    <tr>\n",
       "      <th>4</th>\n",
       "      <td>3.361370e+10</td>\n",
       "      <td>5.277909e+06</td>\n",
       "    </tr>\n",
       "    <tr>\n",
       "      <th>...</th>\n",
       "      <td>...</td>\n",
       "      <td>...</td>\n",
       "    </tr>\n",
       "    <tr>\n",
       "      <th>89326</th>\n",
       "      <td>3.376818e+10</td>\n",
       "      <td>1.122624e+06</td>\n",
       "    </tr>\n",
       "    <tr>\n",
       "      <th>89327</th>\n",
       "      <td>3.376818e+10</td>\n",
       "      <td>1.122624e+06</td>\n",
       "    </tr>\n",
       "    <tr>\n",
       "      <th>89328</th>\n",
       "      <td>3.376819e+10</td>\n",
       "      <td>1.122624e+06</td>\n",
       "    </tr>\n",
       "    <tr>\n",
       "      <th>89329</th>\n",
       "      <td>3.376819e+10</td>\n",
       "      <td>5.150907e+06</td>\n",
       "    </tr>\n",
       "    <tr>\n",
       "      <th>89330</th>\n",
       "      <td>3.376819e+10</td>\n",
       "      <td>7.869683e+05</td>\n",
       "    </tr>\n",
       "  </tbody>\n",
       "</table>\n",
       "<p>89331 rows × 2 columns</p>\n",
       "</div>"
      ],
      "text/plain": [
       "       MSISDN/Number  Experience_Score\n",
       "0       3.361370e+10      9.145345e+05\n",
       "1       3.361370e+10      3.180830e+06\n",
       "2       3.361370e+10      1.122624e+06\n",
       "3       3.361370e+10      1.122624e+06\n",
       "4       3.361370e+10      5.277909e+06\n",
       "...              ...               ...\n",
       "89326   3.376818e+10      1.122624e+06\n",
       "89327   3.376818e+10      1.122624e+06\n",
       "89328   3.376819e+10      1.122624e+06\n",
       "89329   3.376819e+10      5.150907e+06\n",
       "89330   3.376819e+10      7.869683e+05\n",
       "\n",
       "[89331 rows x 2 columns]"
      ]
     },
     "execution_count": 11,
     "metadata": {},
     "output_type": "execute_result"
    }
   ],
   "source": [
    "experience_scores"
   ]
  }
 ],
 "metadata": {
  "kernelspec": {
   "display_name": ".venv",
   "language": "python",
   "name": "python3"
  },
  "language_info": {
   "codemirror_mode": {
    "name": "ipython",
    "version": 3
   },
   "file_extension": ".py",
   "mimetype": "text/x-python",
   "name": "python",
   "nbconvert_exporter": "python",
   "pygments_lexer": "ipython3",
   "version": "3.11.6"
  }
 },
 "nbformat": 4,
 "nbformat_minor": 2
}
